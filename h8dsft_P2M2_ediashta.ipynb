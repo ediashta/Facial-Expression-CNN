{
 "cells": [
  {
   "cell_type": "markdown",
   "metadata": {},
   "source": [
    "# **Phase 2 - Milestone 2**\n",
    "\n",
    "**Ediashta Revindra Amirussalam**\n",
    "<br>FTDS-020-RMT"
   ]
  },
  {
   "cell_type": "markdown",
   "metadata": {},
   "source": [
    "## Objective"
   ]
  },
  {
   "cell_type": "markdown",
   "metadata": {},
   "source": [
    "## 00 - Import Libraries"
   ]
  },
  {
   "cell_type": "code",
   "execution_count": 25,
   "metadata": {},
   "outputs": [],
   "source": [
    "import numpy as numpy\n",
    "import pandas as pd\n",
    "import matplotlib.pyplot as plt\n",
    "import seaborn as sns\n",
    "import os\n",
    "import glob\n",
    "import random"
   ]
  },
  {
   "cell_type": "markdown",
   "metadata": {},
   "source": [
    "## 01 - Data Loading"
   ]
  },
  {
   "cell_type": "code",
   "execution_count": 4,
   "metadata": {},
   "outputs": [
    {
     "data": {
      "text/plain": [
       "['test', 'train']"
      ]
     },
     "execution_count": 4,
     "metadata": {},
     "output_type": "execute_result"
    }
   ],
   "source": [
    "main_path = ('./datasets/')\n",
    "os.listdir(main_path)"
   ]
  },
  {
   "cell_type": "code",
   "execution_count": 7,
   "metadata": {},
   "outputs": [
    {
     "data": {
      "text/plain": [
       "['angry', 'disgusted', 'fearful', 'happy', 'neutral', 'sad', 'surprised']"
      ]
     },
     "execution_count": 7,
     "metadata": {},
     "output_type": "execute_result"
    }
   ],
   "source": [
    "train_dir = os.path.join(main_path, 'train')\n",
    "test_dir = os.path.join(main_path, 'test')\n",
    "os.listdir(train_dir)"
   ]
  },
  {
   "cell_type": "code",
   "execution_count": 18,
   "metadata": {},
   "outputs": [],
   "source": [
    "def check_dir(dir=None, labels=None):\n",
    "  i=0\n",
    "  for label in labels:\n",
    "    num_data= len(os.listdir(os.path.join(dir, label)))\n",
    "    print(f'Data', label, ' :', num_data)\n",
    "    i+= num_data\n",
    "  print('Total Data :', i)\n",
    "    \n"
   ]
  },
  {
   "cell_type": "code",
   "execution_count": 19,
   "metadata": {},
   "outputs": [
    {
     "name": "stdout",
     "output_type": "stream",
     "text": [
      "train set: \n",
      "==================================================\n",
      "Data angry  : 3995\n",
      "Data disgusted  : 436\n",
      "Data fearful  : 4097\n",
      "Data happy  : 7215\n",
      "Data neutral  : 4965\n",
      "Data sad  : 4830\n",
      "Data surprised  : 3171\n",
      "Total Data : 28709\n",
      "\n",
      "test set: \n",
      "==================================================\n",
      "Data angry  : 958\n",
      "Data disgusted  : 111\n",
      "Data fearful  : 1024\n",
      "Data happy  : 1774\n",
      "Data neutral  : 1233\n",
      "Data sad  : 1247\n",
      "Data surprised  : 831\n",
      "Total Data : 7178\n"
     ]
    }
   ],
   "source": [
    "print('train set: \\n' + '='*50)\n",
    "check_dir(train_dir,os.listdir(train_dir))\n",
    "print('\\ntest set: \\n' + '='*50)\n",
    "check_dir(test_dir,os.listdir(test_dir))"
   ]
  },
  {
   "cell_type": "markdown",
   "metadata": {},
   "source": [
    "## 02 - EDA"
   ]
  },
  {
   "cell_type": "code",
   "execution_count": 35,
   "metadata": {},
   "outputs": [],
   "source": [
    "train_angry= glob.glob(train_dir + '/angry/*.png')\n",
    "train_disgusted= glob.glob(train_dir + '/disgusted/*.png')\n",
    "train_fearful= glob.glob(train_dir + '/fearful/*.png')\n",
    "train_happy= glob.glob(train_dir + '/happy/*.png')\n",
    "train_neutral= glob.glob(train_dir + '/neutral/*.png')\n",
    "train_sad= glob.glob(train_dir + '/sad/*.png')\n",
    "train_surprised= glob.glob(train_dir + '/surprised/*.png')\n",
    "\n",
    "test_angry= glob.glob(test_dir + '/angry/*.png')\n",
    "test_disgusted= glob.glob(test_dir + '/disgusted/*.png')\n",
    "test_fearful= glob.glob(test_dir + '/fearful/*.png')\n",
    "test_happy= glob.glob(test_dir + '/happy/*.png')\n",
    "test_neutral= glob.glob(test_dir + '/neutral/*.png')\n",
    "test_sad= glob.glob(test_dir + '/sad/*.png')\n",
    "test_surprised= glob.glob(test_dir + '/surprised/*.png')\n"
   ]
  },
  {
   "cell_type": "code",
   "execution_count": 38,
   "metadata": {},
   "outputs": [],
   "source": [
    "def random_sample(image_files, num_samples=5):\n",
    "  random_files= random.sample(image_files, num_samples)\n",
    "  return random_files"
   ]
  },
  {
   "cell_type": "code",
   "execution_count": 69,
   "metadata": {},
   "outputs": [],
   "source": [
    "def visualize_img(random_data, fig, axes, loc, labels=None):\n",
    "  for i, image_path in enumerate(random_data):\n",
    "    image= plt.imread(image_path)\n",
    "    axes[loc, i].imshow(image, cmap='gray') # bisa tanpa cmap kalau bener2 RGB\n",
    "    axes[loc, i].set_title(f'{labels}, {image.shape}')\n",
    "    axes[loc, i].axis('off')"
   ]
  },
  {
   "cell_type": "code",
   "execution_count": null,
   "metadata": {},
   "outputs": [],
   "source": [
    "count = 0\n",
    "fig, axes= plt.subplots(7,5, figsize=(15,12))\n",
    "\n",
    "for i in os.listdir(train_dir):\n",
    "    visualize_img(\n",
    "        random_sample(\n",
    "            glob.glob(train_dir + '/' + i +'/*.png')\n",
    "        ), fig, axes, count, i\n",
    "    )\n",
    "    count+=1\n",
    "\n",
    "plt.show()"
   ]
  }
 ],
 "metadata": {
  "kernelspec": {
   "display_name": "Python 3",
   "language": "python",
   "name": "python3"
  },
  "language_info": {
   "codemirror_mode": {
    "name": "ipython",
    "version": 3
   },
   "file_extension": ".py",
   "mimetype": "text/x-python",
   "name": "python",
   "nbconvert_exporter": "python",
   "pygments_lexer": "ipython3",
   "version": "3.10.10"
  },
  "orig_nbformat": 4
 },
 "nbformat": 4,
 "nbformat_minor": 2
}
